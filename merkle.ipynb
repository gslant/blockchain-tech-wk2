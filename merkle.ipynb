{
 "cells": [
  {
   "cell_type": "code",
   "execution_count": null,
   "metadata": {},
   "outputs": [],
   "source": [
    "import pandas as pd\n",
    "import hashlib\n",
    "import codecs"
   ]
  },
  {
   "cell_type": "code",
   "execution_count": null,
   "metadata": {},
   "outputs": [],
   "source": [
    "def calculate_merkle_root(transactions):\n",
    "    # Convert transaction hashes to a list and reverse each hash (little-endian to big-endian)\n",
    "    hashes = [codecs.decode(tx_hash, \"hex\")[::-1] for tx_hash in transactions[\"hash\"]]\n",
    "\n",
    "    while len(hashes) > 1:\n",
    "        if len(hashes) % 2 != 0:\n",
    "            hashes.append(hashes[-1])  # Duplicate last hash if odd number\n",
    "\n",
    "        new_hashes = []\n",
    "        for i in range(0, len(hashes), 2):\n",
    "            combined_hash = hashes[i] + hashes[i + 1]\n",
    "            new_hashes.append(\n",
    "                hashlib.sha256(hashlib.sha256(combined_hash).digest()).digest()\n",
    "            )\n",
    "\n",
    "        hashes = new_hashes\n",
    "\n",
    "    # Reverse the final hash to get the merkle root in big-endian order\n",
    "    merkle_root = hashes[0][::-1].hex()\n",
    "    return merkle_root\n",
    "\n",
    "# Load the CSV file into a pandas DataFrame\n",
    "df = pd.read_csv(\"bitcoin_block_641818.csv\")\n",
    "\n",
    "# Calculate the Merkle root\n",
    "merkle_root = calculate_merkle_root(df)\n",
    "\n",
    "# Print the Merkle root\n",
    "print(\"Merkle Root:\", merkle_root)\n",
    "\n",
    "# Check if the calculated value matches the known merkle root of block 641818\n",
    "if (\n",
    "    merkle_root\n",
    "    == \"eaff941d295642c5176c4464b6d7b6f43ef3257c9ff5b8570bca59fd18c31af8\"\n",
    "):\n",
    "    print(\"Merkle Root is correct\")\n"
   ]
  }
 ],
 "metadata": {
  "language_info": {
   "name": "python"
  },
  "orig_nbformat": 4
 },
 "nbformat": 4,
 "nbformat_minor": 2
}
