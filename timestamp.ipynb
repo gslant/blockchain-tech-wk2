{
 "cells": [
  {
   "cell_type": "code",
   "execution_count": 1,
   "metadata": {},
   "outputs": [],
   "source": [
    "import hashlib as hash\n",
    "import pickle\n",
    "import time"
   ]
  },
  {
   "cell_type": "code",
   "execution_count": 6,
   "metadata": {},
   "outputs": [
    {
     "name": "stdout",
     "output_type": "stream",
     "text": [
      "genesis block 7efdf971c9523f2c5c1cd766ced3fce1b3c106d8\n",
      "1691978104.9381895\n",
      "block 2 f5b601ed76f88daefd4bfcb138418552b369b526\n"
     ]
    }
   ],
   "source": [
    "class Block:\n",
    "    def __init__(self, prev_hash, timestamp, merkle_root, transactions):\n",
    "        self.timestamp = timestamp\n",
    "        self.prev_hash = prev_hash\n",
    "        self.merkle_root = merkle_root\n",
    "        self.transactions = transactions\n",
    "\n",
    "    def calculate_hash(self):\n",
    "        byte_self = pickle.dumps(self)\n",
    "        return hash.sha1(byte_self).hexdigest()\n",
    "\n",
    "\n",
    "# create genesis block\n",
    "genesis_block = Block(\"this is the genesis block\", time.time(), \"\", [])\n",
    "gen_hash = genesis_block.calculate_hash()\n",
    "print(\"genesis block\",gen_hash)\n",
    "print(time.time())\n",
    "\n",
    "# create second block\n",
    "block_2 = Block(gen_hash, time.time(), \"\", [])\n",
    "print(\"block 2 \" + block_2.calculate_hash())"
   ]
  },
  {
   "cell_type": "markdown",
   "metadata": {},
   "source": [
    "# Answer\n",
    "Block height makes it very easy to traverse the blockchain, and reference a specific block. Timestamp is the time the block was created, which makes it easy to determine when the block was created. However, timestamping relies on the system clock of the machine mining the block, which can be manipulated, or can be wrong. block height is a more reliable way to reference a block, as it is deterministic. Both can be included in a block, and both are useful."
   ]
  }
 ],
 "metadata": {
  "kernelspec": {
   "display_name": "Python 3",
   "language": "python",
   "name": "python3"
  },
  "language_info": {
   "codemirror_mode": {
    "name": "ipython",
    "version": 3
   },
   "file_extension": ".py",
   "mimetype": "text/x-python",
   "name": "python",
   "nbconvert_exporter": "python",
   "pygments_lexer": "ipython3",
   "version": "3.9.13"
  },
  "orig_nbformat": 4
 },
 "nbformat": 4,
 "nbformat_minor": 2
}
