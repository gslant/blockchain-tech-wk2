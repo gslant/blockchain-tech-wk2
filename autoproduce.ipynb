{
 "cells": [
  {
   "cell_type": "code",
   "execution_count": 1,
   "metadata": {},
   "outputs": [],
   "source": [
    "import hashlib as hash\n",
    "import pickle\n",
    "import time"
   ]
  },
  {
   "cell_type": "code",
   "execution_count": 2,
   "metadata": {},
   "outputs": [
    {
     "name": "stdout",
     "output_type": "stream",
     "text": [
      "Mining Block 2...\n",
      "Block mined at 1691977251.909626.\n",
      "Mining Block 3...\n",
      "Block mined at 1691977256.9245133.\n",
      "Mining Block 4...\n",
      "Block mined at 1691977261.929184.\n",
      "Mining Block 5...\n",
      "Block mined at 1691977266.935946.\n",
      "Mining Block 6...\n",
      "Block mined at 1691977271.939229.\n",
      "Mining Block 7...\n"
     ]
    },
    {
     "ename": "KeyboardInterrupt",
     "evalue": "",
     "output_type": "error",
     "traceback": [
      "\u001b[1;31m---------------------------------------------------------------------------\u001b[0m",
      "\u001b[1;31mKeyboardInterrupt\u001b[0m                         Traceback (most recent call last)",
      "\u001b[1;32md:\\byron\\Documents\\warframe-api-stuff\\blockchain\\blockchain-tech-wk2\\autoproduce.ipynb Cell 2\u001b[0m in \u001b[0;36m5\n\u001b[0;32m     <a href='vscode-notebook-cell:/d%3A/byron/Documents/warframe-api-stuff/blockchain/blockchain-tech-wk2/autoproduce.ipynb#W1sZmlsZQ%3D%3D?line=50'>51</a>\u001b[0m prev_block \u001b[39m=\u001b[39m gen_block\n\u001b[0;32m     <a href='vscode-notebook-cell:/d%3A/byron/Documents/warframe-api-stuff/blockchain/blockchain-tech-wk2/autoproduce.ipynb#W1sZmlsZQ%3D%3D?line=52'>53</a>\u001b[0m \u001b[39mwhile\u001b[39;00m \u001b[39mTrue\u001b[39;00m:\n\u001b[1;32m---> <a href='vscode-notebook-cell:/d%3A/byron/Documents/warframe-api-stuff/blockchain/blockchain-tech-wk2/autoproduce.ipynb#W1sZmlsZQ%3D%3D?line=53'>54</a>\u001b[0m     new_block \u001b[39m=\u001b[39m mine_block(prev_block, generate_transactions, block_time)\n\u001b[0;32m     <a href='vscode-notebook-cell:/d%3A/byron/Documents/warframe-api-stuff/blockchain/blockchain-tech-wk2/autoproduce.ipynb#W1sZmlsZQ%3D%3D?line=54'>55</a>\u001b[0m     \u001b[39mprint\u001b[39m(\u001b[39mf\u001b[39m\u001b[39m\"\u001b[39m\u001b[39mBlock mined at \u001b[39m\u001b[39m{\u001b[39;00mnew_block\u001b[39m.\u001b[39mtimestamp\u001b[39m}\u001b[39;00m\u001b[39m.\u001b[39m\u001b[39m\"\u001b[39m)\n\u001b[0;32m     <a href='vscode-notebook-cell:/d%3A/byron/Documents/warframe-api-stuff/blockchain/blockchain-tech-wk2/autoproduce.ipynb#W1sZmlsZQ%3D%3D?line=55'>56</a>\u001b[0m     prev_block \u001b[39m=\u001b[39m new_block\n",
      "\u001b[1;32md:\\byron\\Documents\\warframe-api-stuff\\blockchain\\blockchain-tech-wk2\\autoproduce.ipynb Cell 2\u001b[0m in \u001b[0;36m3\n\u001b[0;32m     <a href='vscode-notebook-cell:/d%3A/byron/Documents/warframe-api-stuff/blockchain/blockchain-tech-wk2/autoproduce.ipynb#W1sZmlsZQ%3D%3D?line=30'>31</a>\u001b[0m new_block \u001b[39m=\u001b[39m create_new_block(prev_block, transactions)\n\u001b[0;32m     <a href='vscode-notebook-cell:/d%3A/byron/Documents/warframe-api-stuff/blockchain/blockchain-tech-wk2/autoproduce.ipynb#W1sZmlsZQ%3D%3D?line=31'>32</a>\u001b[0m \u001b[39mprint\u001b[39m(\u001b[39mf\u001b[39m\u001b[39m\"\u001b[39m\u001b[39mMining Block \u001b[39m\u001b[39m{\u001b[39;00mnew_block\u001b[39m.\u001b[39mheight\u001b[39m}\u001b[39;00m\u001b[39m...\u001b[39m\u001b[39m\"\u001b[39m)\n\u001b[1;32m---> <a href='vscode-notebook-cell:/d%3A/byron/Documents/warframe-api-stuff/blockchain/blockchain-tech-wk2/autoproduce.ipynb#W1sZmlsZQ%3D%3D?line=32'>33</a>\u001b[0m time\u001b[39m.\u001b[39;49msleep(block_time)\n\u001b[0;32m     <a href='vscode-notebook-cell:/d%3A/byron/Documents/warframe-api-stuff/blockchain/blockchain-tech-wk2/autoproduce.ipynb#W1sZmlsZQ%3D%3D?line=33'>34</a>\u001b[0m \u001b[39mreturn\u001b[39;00m new_block\n",
      "\u001b[1;31mKeyboardInterrupt\u001b[0m: "
     ]
    }
   ],
   "source": [
    "class Block:\n",
    "    def __init__(self, height, prev_hash, timestamp, merkle_root, transactions):\n",
    "        self.height = height\n",
    "        self.timestamp = timestamp\n",
    "        self.prev_hash = prev_hash\n",
    "        self.merkle_root = merkle_root\n",
    "        self.transactions = transactions\n",
    "\n",
    "    def calculate_hash(self):\n",
    "        byte_self = pickle.dumps(self)\n",
    "        return hash.sha1(byte_self).hexdigest()\n",
    "\n",
    "\n",
    "def create_genesis_block():\n",
    "    return Block(1, \"this is the genesis block\", time.time(), \"\", [])\n",
    "\n",
    "\n",
    "def create_new_block(prev_block, transactions):\n",
    "    new_block_height = prev_block.height + 1\n",
    "    new_block_timestamp = time.time()\n",
    "    return Block(\n",
    "        new_block_height,\n",
    "        prev_block.calculate_hash(),\n",
    "        new_block_timestamp,\n",
    "        \"\",\n",
    "        transactions,\n",
    "    )\n",
    "\n",
    "\n",
    "def mine_block(prev_block, transactions, block_time):\n",
    "    new_block = create_new_block(prev_block, transactions)\n",
    "    print(f\"Mining Block {new_block.height}...\")\n",
    "    time.sleep(block_time)\n",
    "    return new_block\n",
    "\n",
    "\n",
    "# generates 6 \"random\" transactions to include in blocks\n",
    "def generate_transactions():\n",
    "    transactions = []\n",
    "    for i in range(1, 6):\n",
    "        transaction = f\"Transaction {i}\"\n",
    "        transactions.append(transaction)\n",
    "    return transactions\n",
    "\n",
    "\n",
    "\n",
    "block_time = 5\n",
    "\n",
    "gen_block = create_genesis_block()\n",
    "\n",
    "prev_block = gen_block\n",
    "\n",
    "while True:\n",
    "    new_block = mine_block(prev_block, generate_transactions, block_time)\n",
    "    print(f\"Block mined at {new_block.timestamp}.\")\n",
    "    prev_block = new_block\n",
    "\n",
    "\n"
   ]
  },
  {
   "cell_type": "markdown",
   "metadata": {},
   "source": [
    "# Answer\n",
    "For this demo, the blocktime of 5 was chosen arbitrarily, however, in a real PoW blockchain the amount of time between blocks is determined by the total network hashrate. If there is a large amount of computational power devoted to mining, block creation can go up, likewise it can go down if the hashrate slows. Bitcoin mitigates this by adjusting the \"difficulty\" periodically, To ensure that changes in total hashrate don't affect blocktime, and that it stays as close to 10 minutes per block as possible."
   ]
  }
 ],
 "metadata": {
  "kernelspec": {
   "display_name": "Python 3",
   "language": "python",
   "name": "python3"
  },
  "language_info": {
   "codemirror_mode": {
    "name": "ipython",
    "version": 3
   },
   "file_extension": ".py",
   "mimetype": "text/x-python",
   "name": "python",
   "nbconvert_exporter": "python",
   "pygments_lexer": "ipython3",
   "version": "3.10.0"
  },
  "orig_nbformat": 4
 },
 "nbformat": 4,
 "nbformat_minor": 2
}
